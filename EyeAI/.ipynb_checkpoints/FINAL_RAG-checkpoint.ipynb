{
 "cells": [
  {
   "cell_type": "code",
   "execution_count": null,
   "id": "ff689ba1-d0a9-4095-a9b6-6a9eda264d66",
   "metadata": {},
   "outputs": [],
   "source": [
    "from langchain_core.output_parsers import StrOutputParser\n",
    "from langchain.text_splitter import RecursiveCharacterTextSplitter\n",
    "from langchain_openai import ChatOpenAI, OpenAIEmbeddings\n",
    "from langchain_community.vectorstores import FAISS\n",
    "from langchain_core.prompts import PromptTemplate\n",
    "\n",
    "import torch\n",
    "from torch.utils.data import Dataset\n",
    "from sklearn.model_selection import train_test_split\n",
    "from torchvision import transforms\n",
    "from torch.utils.data import DataLoader\n",
    "import torch.nn as nn\n",
    "import torch.optim as optim\n",
    "import pandas as pd\n",
    "import os\n",
    "from torchvision import transforms\n",
    "from PIL import Image\n",
    "from torchvision import models\n",
    "from dotenv import load_dotenv"
   ]
  },
  {
   "cell_type": "code",
   "execution_count": null,
   "id": "1d684af0-5e79-46d6-bb68-6ddc2706d4f0",
   "metadata": {},
   "outputs": [],
   "source": [
    "load_dotenv()"
   ]
  },
  {
   "cell_type": "code",
   "execution_count": 5,
   "id": "e1a659a3-30b0-44c6-bde4-ca1495974bd7",
   "metadata": {},
   "outputs": [],
   "source": [
    "def do_all(diagnosis, history, language = \"en\"):\n",
    "    \n",
    "    if diagnosis == \"normal\":\n",
    "        if language == \"en\":\n",
    "            print(\"Congratulations, you are normal!\")\n",
    "            return\n",
    "        elif language == \"hi\":\n",
    "            print(\"बधाई हो, आप बिलकुल ठीक हैं\")\n",
    "            return\n",
    "\n",
    "    parser = StrOutputParser()\n",
    "    llm = ChatOpenAI()\n",
    "    \n",
    "    if diagnosis == \"diabetic_retinopathy\":\n",
    "        file = \"diabetic_retinopathy.txt\"\n",
    "    elif diagnosis == \"glaucoma\":\n",
    "        file = \"glaucoma.txt\"\n",
    "    elif diagnosis == \"cataract\":\n",
    "        file = \"cataract.txt\"\n",
    "    with open(file, 'r', encoding = 'utf-8') as file:\n",
    "        text = file.read() \n",
    "    text = text.replace(r\"\\n\\n\", '\\n')\n",
    "    \n",
    "    splitter = RecursiveCharacterTextSplitter(chunk_size = 1000, chunk_overlap = 200)\n",
    "    chunks = splitter.create_documents([text])\n",
    "    embeddings = OpenAIEmbeddings(model = \"text-embedding-3-small\")\n",
    "    vector_store = FAISS.from_documents(chunks, embeddings)\n",
    "    retriever = vector_store.as_retriever(search_type = \"similarity\", search_kwargs = {'k':4})\n",
    "    \n",
    "    summary_prompt = PromptTemplate(\n",
    "        template = \"\"\"\n",
    "        You have to summarize the patient's history into short pointers(only the parts useful for querying documents): {history}\n",
    "        \"\"\",\n",
    "        input_variables = ['history']\n",
    "    )\n",
    "    summary_chain = summary_prompt | llm | parser\n",
    "    summary = summary_chain.invoke({\"history\":history})\n",
    "    \n",
    "    academia = retriever.invoke(summary)\n",
    "    causes_academia = \"\\n\\n\\n\".join([ac.page_content for ac in academia])\n",
    "\n",
    "    causes_prompt = PromptTemplate(\n",
    "        template = \"\"\"\n",
    "        You are an assistant who gives the causes given the following diagnosis: {diagnosis}, \n",
    "        And the following patient history : {context}\n",
    "        You have the following medical academia to infer a cause : {academia}\n",
    "        \"\"\",\n",
    "        input_variables=['diagnosis', 'context', 'academia']\n",
    "    )\n",
    "    cause_chain = causes_prompt | llm | parser\n",
    "    cause = cause_chain.invoke({\"diagnosis\":diagnosis, \"context\":summary, \"academia\": causes_academia})\n",
    "\n",
    "    refrence = retriever.invoke(f'Treatment methods for {diagnosis}')\n",
    "    treatment_academia = \"\\n\\n\".join([ac.page_content for ac in refrence])\n",
    "\n",
    "    treatment_prompt = PromptTemplate(\n",
    "        template = \"\"\"\n",
    "        You are a helpful assistant and your role is the give the treatment for the following diagnosis: {diagnosis}\n",
    "        You are given the following sets of causes: {causes}\n",
    "        Use the following academia as reference: {reference}\n",
    "        \"\"\",\n",
    "        input_variables = ['causes','diagnosis', 'reference']\n",
    "    )\n",
    "    treatment_chain = treatment_prompt | llm | parser\n",
    "    treatment = treatment_chain.invoke({'causes': cause, \"diagnosis\":diagnosis, \"reference\": treatment_academia})\n",
    "\n",
    "    translate_prompt = PromptTemplate(\n",
    "        template = \"Convert the following text to hindi: {text}\",\n",
    "        input_variables = ['text']\n",
    "    )\n",
    "    translator = translate_prompt | llm | parser\n",
    "    \n",
    "    if language == \"hi\":\n",
    "        cause = translator.invoke({\"text\":cause})\n",
    "        treatment = translator.invoke({'text':treatment})\n",
    "        print(\"कारण: \\n\")\n",
    "        print(cause, \"\\n\\n\")\n",
    "        print(\"इलाज: \\n\")\n",
    "        print(treatment, \"\\n\\n\")\n",
    "    elif language == \"en\":\n",
    "        print('Cause: \\n')\n",
    "        print(cause)\n",
    "        print('Treatment: \\n')\n",
    "        print(treatment)"
   ]
  },
  {
   "cell_type": "code",
   "execution_count": 6,
   "id": "c4cc527e-6952-4583-8792-f14631bbd602",
   "metadata": {},
   "outputs": [],
   "source": [
    "diagnosis = \"glaucoma\"\n",
    "history = \"\"\"\n",
    "Doctor, I’ve been having trouble with my eyes lately, and I’m worried it might be something serious.\n",
    "\n",
    "Over the past few months, I’ve noticed that my peripheral vision isn’t as sharp as it used to be—it’s like I’m looking through a tunnel sometimes. I’ve also been getting frequent headaches, especially around my brow and temples, and my eyes often feel achy or strained.\n",
    "\n",
    "A few times, I’ve had sudden blurry vision in one eye, along with halos around lights, particularly at night. My right eye seems worse—colors don’t look as vivid, and sometimes there’s a dull pain behind it.\n",
    "\"\"\"\n",
    "language = \"en\""
   ]
  },
  {
   "cell_type": "code",
   "execution_count": 7,
   "id": "0faa372d-76e0-47d4-8060-9f3ba49a75c2",
   "metadata": {},
   "outputs": [
    {
     "ename": "ImportError",
     "evalue": "Could not import faiss python package. Please install it with `pip install faiss-gpu` (for CUDA supported GPU) or `pip install faiss-cpu` (depending on Python version).",
     "output_type": "error",
     "traceback": [
      "\u001b[1;31m---------------------------------------------------------------------------\u001b[0m",
      "\u001b[1;31mModuleNotFoundError\u001b[0m                       Traceback (most recent call last)",
      "File \u001b[1;32m~\\AppData\\Local\\Programs\\Python\\Python312\\Lib\\site-packages\\langchain_community\\vectorstores\\faiss.py:56\u001b[0m, in \u001b[0;36mdependable_faiss_import\u001b[1;34m(no_avx2)\u001b[0m\n\u001b[0;32m     55\u001b[0m     \u001b[38;5;28;01melse\u001b[39;00m:\n\u001b[1;32m---> 56\u001b[0m         \u001b[38;5;28;01mimport\u001b[39;00m \u001b[38;5;21;01mfaiss\u001b[39;00m\n\u001b[0;32m     57\u001b[0m \u001b[38;5;28;01mexcept\u001b[39;00m \u001b[38;5;167;01mImportError\u001b[39;00m:\n",
      "\u001b[1;31mModuleNotFoundError\u001b[0m: No module named 'faiss'",
      "\nDuring handling of the above exception, another exception occurred:\n",
      "\u001b[1;31mImportError\u001b[0m                               Traceback (most recent call last)",
      "Cell \u001b[1;32mIn[7], line 1\u001b[0m\n\u001b[1;32m----> 1\u001b[0m \u001b[43mdo_all\u001b[49m\u001b[43m(\u001b[49m\u001b[43mdiagnosis\u001b[49m\u001b[43m \u001b[49m\u001b[38;5;241;43m=\u001b[39;49m\u001b[43m \u001b[49m\u001b[43mdiagnosis\u001b[49m\u001b[43m,\u001b[49m\u001b[43m \u001b[49m\u001b[43mlanguage\u001b[49m\u001b[43m \u001b[49m\u001b[38;5;241;43m=\u001b[39;49m\u001b[43m \u001b[49m\u001b[38;5;124;43m\"\u001b[39;49m\u001b[38;5;124;43men\u001b[39;49m\u001b[38;5;124;43m\"\u001b[39;49m\u001b[43m,\u001b[49m\u001b[43m \u001b[49m\u001b[43mhistory\u001b[49m\u001b[43m \u001b[49m\u001b[38;5;241;43m=\u001b[39;49m\u001b[43m \u001b[49m\u001b[43mhistory\u001b[49m\u001b[43m)\u001b[49m\n",
      "Cell \u001b[1;32mIn[5], line 27\u001b[0m, in \u001b[0;36mdo_all\u001b[1;34m(diagnosis, history, language)\u001b[0m\n\u001b[0;32m     25\u001b[0m chunks \u001b[38;5;241m=\u001b[39m splitter\u001b[38;5;241m.\u001b[39mcreate_documents([text])\n\u001b[0;32m     26\u001b[0m embeddings \u001b[38;5;241m=\u001b[39m OpenAIEmbeddings(model \u001b[38;5;241m=\u001b[39m \u001b[38;5;124m\"\u001b[39m\u001b[38;5;124mtext-embedding-3-small\u001b[39m\u001b[38;5;124m\"\u001b[39m)\n\u001b[1;32m---> 27\u001b[0m vector_store \u001b[38;5;241m=\u001b[39m \u001b[43mFAISS\u001b[49m\u001b[38;5;241;43m.\u001b[39;49m\u001b[43mfrom_documents\u001b[49m\u001b[43m(\u001b[49m\u001b[43mchunks\u001b[49m\u001b[43m,\u001b[49m\u001b[43m \u001b[49m\u001b[43membeddings\u001b[49m\u001b[43m)\u001b[49m\n\u001b[0;32m     28\u001b[0m retriever \u001b[38;5;241m=\u001b[39m vector_store\u001b[38;5;241m.\u001b[39mas_retriever(search_type \u001b[38;5;241m=\u001b[39m \u001b[38;5;124m\"\u001b[39m\u001b[38;5;124msimilarity\u001b[39m\u001b[38;5;124m\"\u001b[39m, search_kwargs \u001b[38;5;241m=\u001b[39m {\u001b[38;5;124m'\u001b[39m\u001b[38;5;124mk\u001b[39m\u001b[38;5;124m'\u001b[39m:\u001b[38;5;241m4\u001b[39m})\n\u001b[0;32m     30\u001b[0m summary_prompt \u001b[38;5;241m=\u001b[39m PromptTemplate(\n\u001b[0;32m     31\u001b[0m     template \u001b[38;5;241m=\u001b[39m \u001b[38;5;124m\"\"\"\u001b[39m\n\u001b[0;32m     32\u001b[0m \u001b[38;5;124m    You have to summarize the patient\u001b[39m\u001b[38;5;124m'\u001b[39m\u001b[38;5;124ms history into short pointers(only the parts useful for querying documents): \u001b[39m\u001b[38;5;132;01m{history}\u001b[39;00m\n\u001b[0;32m     33\u001b[0m \u001b[38;5;124m    \u001b[39m\u001b[38;5;124m\"\"\"\u001b[39m,\n\u001b[0;32m     34\u001b[0m     input_variables \u001b[38;5;241m=\u001b[39m [\u001b[38;5;124m'\u001b[39m\u001b[38;5;124mhistory\u001b[39m\u001b[38;5;124m'\u001b[39m]\n\u001b[0;32m     35\u001b[0m )\n",
      "File \u001b[1;32m~\\AppData\\Local\\Programs\\Python\\Python312\\Lib\\site-packages\\langchain_core\\vectorstores\\base.py:848\u001b[0m, in \u001b[0;36mVectorStore.from_documents\u001b[1;34m(cls, documents, embedding, **kwargs)\u001b[0m\n\u001b[0;32m    845\u001b[0m     \u001b[38;5;28;01mif\u001b[39;00m \u001b[38;5;28many\u001b[39m(ids):\n\u001b[0;32m    846\u001b[0m         kwargs[\u001b[38;5;124m\"\u001b[39m\u001b[38;5;124mids\u001b[39m\u001b[38;5;124m\"\u001b[39m] \u001b[38;5;241m=\u001b[39m ids\n\u001b[1;32m--> 848\u001b[0m \u001b[38;5;28;01mreturn\u001b[39;00m \u001b[38;5;28;43mcls\u001b[39;49m\u001b[38;5;241;43m.\u001b[39;49m\u001b[43mfrom_texts\u001b[49m\u001b[43m(\u001b[49m\u001b[43mtexts\u001b[49m\u001b[43m,\u001b[49m\u001b[43m \u001b[49m\u001b[43membedding\u001b[49m\u001b[43m,\u001b[49m\u001b[43m \u001b[49m\u001b[43mmetadatas\u001b[49m\u001b[38;5;241;43m=\u001b[39;49m\u001b[43mmetadatas\u001b[49m\u001b[43m,\u001b[49m\u001b[43m \u001b[49m\u001b[38;5;241;43m*\u001b[39;49m\u001b[38;5;241;43m*\u001b[39;49m\u001b[43mkwargs\u001b[49m\u001b[43m)\u001b[49m\n",
      "File \u001b[1;32m~\\AppData\\Local\\Programs\\Python\\Python312\\Lib\\site-packages\\langchain_community\\vectorstores\\faiss.py:1044\u001b[0m, in \u001b[0;36mFAISS.from_texts\u001b[1;34m(cls, texts, embedding, metadatas, ids, **kwargs)\u001b[0m\n\u001b[0;32m   1025\u001b[0m \u001b[38;5;250m\u001b[39m\u001b[38;5;124;03m\"\"\"Construct FAISS wrapper from raw documents.\u001b[39;00m\n\u001b[0;32m   1026\u001b[0m \n\u001b[0;32m   1027\u001b[0m \u001b[38;5;124;03mThis is a user friendly interface that:\u001b[39;00m\n\u001b[1;32m   (...)\u001b[0m\n\u001b[0;32m   1041\u001b[0m \u001b[38;5;124;03m        faiss = FAISS.from_texts(texts, embeddings)\u001b[39;00m\n\u001b[0;32m   1042\u001b[0m \u001b[38;5;124;03m\"\"\"\u001b[39;00m\n\u001b[0;32m   1043\u001b[0m embeddings \u001b[38;5;241m=\u001b[39m embedding\u001b[38;5;241m.\u001b[39membed_documents(texts)\n\u001b[1;32m-> 1044\u001b[0m \u001b[38;5;28;01mreturn\u001b[39;00m \u001b[38;5;28;43mcls\u001b[39;49m\u001b[38;5;241;43m.\u001b[39;49m\u001b[43m__from\u001b[49m\u001b[43m(\u001b[49m\n\u001b[0;32m   1045\u001b[0m \u001b[43m    \u001b[49m\u001b[43mtexts\u001b[49m\u001b[43m,\u001b[49m\n\u001b[0;32m   1046\u001b[0m \u001b[43m    \u001b[49m\u001b[43membeddings\u001b[49m\u001b[43m,\u001b[49m\n\u001b[0;32m   1047\u001b[0m \u001b[43m    \u001b[49m\u001b[43membedding\u001b[49m\u001b[43m,\u001b[49m\n\u001b[0;32m   1048\u001b[0m \u001b[43m    \u001b[49m\u001b[43mmetadatas\u001b[49m\u001b[38;5;241;43m=\u001b[39;49m\u001b[43mmetadatas\u001b[49m\u001b[43m,\u001b[49m\n\u001b[0;32m   1049\u001b[0m \u001b[43m    \u001b[49m\u001b[43mids\u001b[49m\u001b[38;5;241;43m=\u001b[39;49m\u001b[43mids\u001b[49m\u001b[43m,\u001b[49m\n\u001b[0;32m   1050\u001b[0m \u001b[43m    \u001b[49m\u001b[38;5;241;43m*\u001b[39;49m\u001b[38;5;241;43m*\u001b[39;49m\u001b[43mkwargs\u001b[49m\u001b[43m,\u001b[49m\n\u001b[0;32m   1051\u001b[0m \u001b[43m\u001b[49m\u001b[43m)\u001b[49m\n",
      "File \u001b[1;32m~\\AppData\\Local\\Programs\\Python\\Python312\\Lib\\site-packages\\langchain_community\\vectorstores\\faiss.py:996\u001b[0m, in \u001b[0;36mFAISS.__from\u001b[1;34m(cls, texts, embeddings, embedding, metadatas, ids, normalize_L2, distance_strategy, **kwargs)\u001b[0m\n\u001b[0;32m    984\u001b[0m \u001b[38;5;129m@classmethod\u001b[39m\n\u001b[0;32m    985\u001b[0m \u001b[38;5;28;01mdef\u001b[39;00m \u001b[38;5;21m__from\u001b[39m(\n\u001b[0;32m    986\u001b[0m     \u001b[38;5;28mcls\u001b[39m,\n\u001b[1;32m   (...)\u001b[0m\n\u001b[0;32m    994\u001b[0m     \u001b[38;5;241m*\u001b[39m\u001b[38;5;241m*\u001b[39mkwargs: Any,\n\u001b[0;32m    995\u001b[0m ) \u001b[38;5;241m-\u001b[39m\u001b[38;5;241m>\u001b[39m FAISS:\n\u001b[1;32m--> 996\u001b[0m     faiss \u001b[38;5;241m=\u001b[39m \u001b[43mdependable_faiss_import\u001b[49m\u001b[43m(\u001b[49m\u001b[43m)\u001b[49m\n\u001b[0;32m    997\u001b[0m     \u001b[38;5;28;01mif\u001b[39;00m distance_strategy \u001b[38;5;241m==\u001b[39m DistanceStrategy\u001b[38;5;241m.\u001b[39mMAX_INNER_PRODUCT:\n\u001b[0;32m    998\u001b[0m         index \u001b[38;5;241m=\u001b[39m faiss\u001b[38;5;241m.\u001b[39mIndexFlatIP(\u001b[38;5;28mlen\u001b[39m(embeddings[\u001b[38;5;241m0\u001b[39m]))\n",
      "File \u001b[1;32m~\\AppData\\Local\\Programs\\Python\\Python312\\Lib\\site-packages\\langchain_community\\vectorstores\\faiss.py:58\u001b[0m, in \u001b[0;36mdependable_faiss_import\u001b[1;34m(no_avx2)\u001b[0m\n\u001b[0;32m     56\u001b[0m         \u001b[38;5;28;01mimport\u001b[39;00m \u001b[38;5;21;01mfaiss\u001b[39;00m\n\u001b[0;32m     57\u001b[0m \u001b[38;5;28;01mexcept\u001b[39;00m \u001b[38;5;167;01mImportError\u001b[39;00m:\n\u001b[1;32m---> 58\u001b[0m     \u001b[38;5;28;01mraise\u001b[39;00m \u001b[38;5;167;01mImportError\u001b[39;00m(\n\u001b[0;32m     59\u001b[0m         \u001b[38;5;124m\"\u001b[39m\u001b[38;5;124mCould not import faiss python package. \u001b[39m\u001b[38;5;124m\"\u001b[39m\n\u001b[0;32m     60\u001b[0m         \u001b[38;5;124m\"\u001b[39m\u001b[38;5;124mPlease install it with `pip install faiss-gpu` (for CUDA supported GPU) \u001b[39m\u001b[38;5;124m\"\u001b[39m\n\u001b[0;32m     61\u001b[0m         \u001b[38;5;124m\"\u001b[39m\u001b[38;5;124mor `pip install faiss-cpu` (depending on Python version).\u001b[39m\u001b[38;5;124m\"\u001b[39m\n\u001b[0;32m     62\u001b[0m     )\n\u001b[0;32m     63\u001b[0m \u001b[38;5;28;01mreturn\u001b[39;00m faiss\n",
      "\u001b[1;31mImportError\u001b[0m: Could not import faiss python package. Please install it with `pip install faiss-gpu` (for CUDA supported GPU) or `pip install faiss-cpu` (depending on Python version)."
     ]
    }
   ],
   "source": [
    "do_all(diagnosis = diagnosis, language = \"en\", history = history)"
   ]
  },
  {
   "cell_type": "code",
   "execution_count": null,
   "id": "8c2c9a68-746d-4906-b8de-e3eb8408a243",
   "metadata": {},
   "outputs": [],
   "source": [
    "checkpoint = torch.load('fundus_classifier(test-89.38, train-96.74).pth')\n",
    "\n",
    "model = CNN()  # Make sure CNN matches the model architecture you trained\n",
    "model.load_state_dict(checkpoint['model_state_dict'])  # ✅ Correct key\n",
    "model.to(device)\n",
    "model.eval()\n",
    "\n",
    "# Also extract label mappings if needed:\n",
    "idx_to_label = checkpoint['idx_to_label']\n",
    "label_to_idx = checkpoint['label_to_idx']"
   ]
  },
  {
   "cell_type": "code",
   "execution_count": null,
   "id": "19775253-41ae-496d-8fad-88979ccb29d7",
   "metadata": {},
   "outputs": [],
   "source": [
    "import torch.nn.functional as F\n",
    "do_inference('dataset/glaucoma/_10_1472170.jpg', idx_to_label, model)"
   ]
  },
  {
   "cell_type": "code",
   "execution_count": null,
   "id": "d62381d9-b03a-453c-b347-9bceb89222e7",
   "metadata": {},
   "outputs": [],
   "source": []
  }
 ],
 "metadata": {
  "kernelspec": {
   "display_name": "Python 3 (ipykernel)",
   "language": "python",
   "name": "python3"
  },
  "language_info": {
   "codemirror_mode": {
    "name": "ipython",
    "version": 3
   },
   "file_extension": ".py",
   "mimetype": "text/x-python",
   "name": "python",
   "nbconvert_exporter": "python",
   "pygments_lexer": "ipython3",
   "version": "3.12.2"
  }
 },
 "nbformat": 4,
 "nbformat_minor": 5
}
